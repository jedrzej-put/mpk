{
 "cells": [
  {
   "cell_type": "code",
   "execution_count": 3,
   "metadata": {},
   "outputs": [],
   "source": [
    "import pandas as pd\n",
    "\n",
    "df = pd.read_csv(\"./routes.txt\", sep=\",\")"
   ]
  },
  {
   "cell_type": "code",
   "execution_count": 4,
   "metadata": {},
   "outputs": [
    {
     "name": "stdout",
     "output_type": "stream",
     "text": [
      "<class 'pandas.core.frame.DataFrame'>\n",
      "RangeIndex: 129 entries, 0 to 128\n",
      "Data columns (total 9 columns):\n",
      " #   Column            Non-Null Count  Dtype  \n",
      "---  ------            --------------  -----  \n",
      " 0   route_id          129 non-null    object \n",
      " 1   agency_id         129 non-null    int64  \n",
      " 2   route_short_name  129 non-null    object \n",
      " 3   route_long_name   0 non-null      float64\n",
      " 4   route_desc        129 non-null    object \n",
      " 5   route_type        129 non-null    int64  \n",
      " 6   route_type2_id    129 non-null    int64  \n",
      " 7   valid_from        129 non-null    object \n",
      " 8   valid_until       129 non-null    object \n",
      "dtypes: float64(1), int64(3), object(5)\n",
      "memory usage: 9.2+ KB\n"
     ]
    }
   ],
   "source": [
    "df.info()"
   ]
  },
  {
   "cell_type": "code",
   "execution_count": 6,
   "metadata": {},
   "outputs": [
    {
     "name": "stdout",
     "output_type": "stream",
     "text": [
      "<class 'pandas.core.frame.DataFrame'>\n",
      "RangeIndex: 129 entries, 0 to 128\n",
      "Data columns (total 3 columns):\n",
      " #   Column            Non-Null Count  Dtype \n",
      "---  ------            --------------  ----- \n",
      " 0   route_id          129 non-null    object\n",
      " 1   route_short_name  129 non-null    object\n",
      " 2   route_desc        129 non-null    object\n",
      "dtypes: object(3)\n",
      "memory usage: 3.1+ KB\n"
     ]
    }
   ],
   "source": [
    "df_smaller = df[['route_id', 'route_short_name','route_desc']]\n",
    "df_smaller.info()"
   ]
  },
  {
   "cell_type": "code",
   "execution_count": 7,
   "metadata": {},
   "outputs": [],
   "source": [
    "df_smaller.to_csv(\"../assets/routes-wroclaw.csv\", index=False, sep=\",\")"
   ]
  },
  {
   "cell_type": "code",
   "execution_count": 26,
   "metadata": {},
   "outputs": [],
   "source": [
    "import pandas as pd\n",
    "def processing(**kwargs):\n",
    "    df = pd.read_csv(kwargs[\"source_name\"], sep=\",\")\n",
    "    df_smaller = df[kwargs[\"column_subset\"]]\n",
    "    df_smaller.to_csv(kwargs[\"target_name\"], index=False, sep=\",\")\n",
    "    del df\n",
    "    del df_smaller"
   ]
  },
  {
   "cell_type": "code",
   "execution_count": 27,
   "metadata": {},
   "outputs": [],
   "source": [
    "params = [\n",
    "    {\n",
    "        \"source_name\": \"./calendar.txt\", \n",
    "        \"column_subset\": [\"service_id\",\"monday\",\"tuesday\",\"wednesday\",\"thursday\",\"friday\",\"saturday\",\"sunday\",\"start_date\",\"end_date\"],\n",
    "        \"target_name\": \"../assets/calendar.csv\",\n",
    "    },\n",
    "    {\n",
    "        \"source_name\": \"./stops.txt\", \n",
    "        \"column_subset\": [\"stop_id\", \"stop_code\", \"stop_name\", \"stop_lat\", \"stop_lon\"],\n",
    "        \"target_name\": \"../assets/stops.csv\",\n",
    "    },\n",
    "    {\n",
    "        \"source_name\": \"./stop_times.txt\", \n",
    "        \"column_subset\": [\"trip_id\", \"arrival_time\", \"departure_time\", \"stop_id\", \"stop_sequence\"],\n",
    "        \"target_name\": \"../assets/stop_times.csv\",\n",
    "    },\n",
    "    {\n",
    "        \"source_name\": \"./trips.txt\", \n",
    "        \"column_subset\": [\"route_id\", \"service_id\", \"trip_id\",\"trip_headsign\"],\n",
    "        \"target_name\": \"../assets/trips.csv\",\n",
    "    }\n",
    "]"
   ]
  },
  {
   "cell_type": "code",
   "execution_count": 28,
   "metadata": {},
   "outputs": [],
   "source": [
    "for param in params:\n",
    "    processing(**param)"
   ]
  },
  {
   "cell_type": "code",
   "execution_count": null,
   "metadata": {},
   "outputs": [],
   "source": []
  }
 ],
 "metadata": {
  "kernelspec": {
   "display_name": "Python 3.11.0 64-bit",
   "language": "python",
   "name": "python3"
  },
  "language_info": {
   "codemirror_mode": {
    "name": "ipython",
    "version": 3
   },
   "file_extension": ".py",
   "mimetype": "text/x-python",
   "name": "python",
   "nbconvert_exporter": "python",
   "pygments_lexer": "ipython3",
   "version": "3.11.0"
  },
  "orig_nbformat": 4,
  "vscode": {
   "interpreter": {
    "hash": "d498a0f93b30598e4cfd861b36cf13cc08b3e41f5673a8830b4c64838fecd230"
   }
  }
 },
 "nbformat": 4,
 "nbformat_minor": 2
}
